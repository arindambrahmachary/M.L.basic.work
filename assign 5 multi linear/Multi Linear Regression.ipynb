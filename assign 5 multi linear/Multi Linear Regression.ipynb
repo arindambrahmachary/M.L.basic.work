{
 "cells": [
  {
   "cell_type": "code",
   "execution_count": 38,
   "id": "8525fe7d",
   "metadata": {},
   "outputs": [],
   "source": [
    "#question 1 from Multi Linear Regression\n",
    "#Prepare a prediction model for profit of 50_startups data.\n",
    "#Do transformations for getting better predictions of profit and\n",
    "#make a table containing R^2 value for each prepared model."
   ]
  },
  {
   "cell_type": "code",
   "execution_count": 1,
   "id": "7493485a",
   "metadata": {},
   "outputs": [
    {
     "name": "stdout",
     "output_type": "stream",
     "text": [
      "<class 'pandas.core.frame.DataFrame'>\n",
      "RangeIndex: 50 entries, 0 to 49\n",
      "Data columns (total 5 columns):\n",
      " #   Column           Non-Null Count  Dtype  \n",
      "---  ------           --------------  -----  \n",
      " 0   R&D Spend        50 non-null     float64\n",
      " 1   Administration   50 non-null     float64\n",
      " 2   Marketing Spend  50 non-null     float64\n",
      " 3   State            50 non-null     object \n",
      " 4   Profit           50 non-null     float64\n",
      "dtypes: float64(4), object(1)\n",
      "memory usage: 2.1+ KB\n"
     ]
    }
   ],
   "source": [
    "import numpy as np\n",
    "import pandas as pd\n",
    "df = pd.read_csv(\"50_Startups.csv\")\n",
    "df\n",
    "\n",
    "df.info()"
   ]
  },
  {
   "cell_type": "code",
   "execution_count": 2,
   "id": "22d72ad9",
   "metadata": {},
   "outputs": [],
   "source": [
    "df= df.drop(columns=['State'],axis=1)\n"
   ]
  },
  {
   "cell_type": "code",
   "execution_count": 3,
   "id": "aaeb693f",
   "metadata": {},
   "outputs": [
    {
     "data": {
      "text/html": [
       "<div>\n",
       "<style scoped>\n",
       "    .dataframe tbody tr th:only-of-type {\n",
       "        vertical-align: middle;\n",
       "    }\n",
       "\n",
       "    .dataframe tbody tr th {\n",
       "        vertical-align: top;\n",
       "    }\n",
       "\n",
       "    .dataframe thead th {\n",
       "        text-align: right;\n",
       "    }\n",
       "</style>\n",
       "<table border=\"1\" class=\"dataframe\">\n",
       "  <thead>\n",
       "    <tr style=\"text-align: right;\">\n",
       "      <th></th>\n",
       "      <th>R&amp;D Spend</th>\n",
       "      <th>Administration</th>\n",
       "      <th>Marketing Spend</th>\n",
       "      <th>Profit</th>\n",
       "    </tr>\n",
       "  </thead>\n",
       "  <tbody>\n",
       "    <tr>\n",
       "      <th>count</th>\n",
       "      <td>50.000000</td>\n",
       "      <td>50.000000</td>\n",
       "      <td>50.000000</td>\n",
       "      <td>50.000000</td>\n",
       "    </tr>\n",
       "    <tr>\n",
       "      <th>mean</th>\n",
       "      <td>73721.615600</td>\n",
       "      <td>121344.639600</td>\n",
       "      <td>211025.097800</td>\n",
       "      <td>112012.639200</td>\n",
       "    </tr>\n",
       "    <tr>\n",
       "      <th>std</th>\n",
       "      <td>45902.256482</td>\n",
       "      <td>28017.802755</td>\n",
       "      <td>122290.310726</td>\n",
       "      <td>40306.180338</td>\n",
       "    </tr>\n",
       "    <tr>\n",
       "      <th>min</th>\n",
       "      <td>0.000000</td>\n",
       "      <td>51283.140000</td>\n",
       "      <td>0.000000</td>\n",
       "      <td>14681.400000</td>\n",
       "    </tr>\n",
       "    <tr>\n",
       "      <th>25%</th>\n",
       "      <td>39936.370000</td>\n",
       "      <td>103730.875000</td>\n",
       "      <td>129300.132500</td>\n",
       "      <td>90138.902500</td>\n",
       "    </tr>\n",
       "    <tr>\n",
       "      <th>50%</th>\n",
       "      <td>73051.080000</td>\n",
       "      <td>122699.795000</td>\n",
       "      <td>212716.240000</td>\n",
       "      <td>107978.190000</td>\n",
       "    </tr>\n",
       "    <tr>\n",
       "      <th>75%</th>\n",
       "      <td>101602.800000</td>\n",
       "      <td>144842.180000</td>\n",
       "      <td>299469.085000</td>\n",
       "      <td>139765.977500</td>\n",
       "    </tr>\n",
       "    <tr>\n",
       "      <th>max</th>\n",
       "      <td>165349.200000</td>\n",
       "      <td>182645.560000</td>\n",
       "      <td>471784.100000</td>\n",
       "      <td>192261.830000</td>\n",
       "    </tr>\n",
       "  </tbody>\n",
       "</table>\n",
       "</div>"
      ],
      "text/plain": [
       "           R&D Spend  Administration  Marketing Spend         Profit\n",
       "count      50.000000       50.000000        50.000000      50.000000\n",
       "mean    73721.615600   121344.639600    211025.097800  112012.639200\n",
       "std     45902.256482    28017.802755    122290.310726   40306.180338\n",
       "min         0.000000    51283.140000         0.000000   14681.400000\n",
       "25%     39936.370000   103730.875000    129300.132500   90138.902500\n",
       "50%     73051.080000   122699.795000    212716.240000  107978.190000\n",
       "75%    101602.800000   144842.180000    299469.085000  139765.977500\n",
       "max    165349.200000   182645.560000    471784.100000  192261.830000"
      ]
     },
     "execution_count": 3,
     "metadata": {},
     "output_type": "execute_result"
    }
   ],
   "source": [
    "df.describe()"
   ]
  },
  {
   "cell_type": "code",
   "execution_count": 4,
   "id": "c0c379fe",
   "metadata": {},
   "outputs": [
    {
     "data": {
      "text/plain": [
       "(50, 4)"
      ]
     },
     "execution_count": 4,
     "metadata": {},
     "output_type": "execute_result"
    }
   ],
   "source": [
    "df.shape"
   ]
  },
  {
   "cell_type": "code",
   "execution_count": 6,
   "id": "bab7fec1",
   "metadata": {},
   "outputs": [
    {
     "data": {
      "text/plain": [
       "R&D Spend          float64\n",
       "Administration     float64\n",
       "Marketing Spend    float64\n",
       "Profit             float64\n",
       "dtype: object"
      ]
     },
     "execution_count": 6,
     "metadata": {},
     "output_type": "execute_result"
    }
   ],
   "source": [
    "df.dtypes"
   ]
  },
  {
   "cell_type": "code",
   "execution_count": 11,
   "id": "58d49048",
   "metadata": {},
   "outputs": [
    {
     "data": {
      "text/plain": [
       "R&D Spend          0\n",
       "Administration     0\n",
       "Marketing Spend    0\n",
       "Profit             0\n",
       "dtype: int64"
      ]
     },
     "execution_count": 11,
     "metadata": {},
     "output_type": "execute_result"
    }
   ],
   "source": [
    "df.isnull().sum()"
   ]
  },
  {
   "cell_type": "code",
   "execution_count": 12,
   "id": "678f7bd8",
   "metadata": {},
   "outputs": [],
   "source": [
    "import pandas as pd\n",
    "from statsmodels.stats.outliers_influence import variance_inflation_factor"
   ]
  },
  {
   "cell_type": "markdown",
   "id": "19872dbf",
   "metadata": {},
   "source": [
    "# VIF helps to understand the multicolinearty btw the veriabls "
   ]
  },
  {
   "cell_type": "code",
   "execution_count": 13,
   "id": "1196ca6c",
   "metadata": {},
   "outputs": [
    {
     "name": "stdout",
     "output_type": "stream",
     "text": [
      "          Variable       VIF\n",
      "0        R&D Spend  8.384571\n",
      "1   Administration  4.026406\n",
      "2  Marketing Spend  7.593984\n"
     ]
    }
   ],
   "source": [
    "X = df[['R&D Spend', 'Administration', 'Marketing Spend']]\n",
    "\n",
    "# Calculate VIF for each feature\n",
    "vif_data = pd.DataFrame()\n",
    "vif_data[\"Variable\"] = X.columns\n",
    "vif_data[\"VIF\"] = [variance_inflation_factor(X.values, i) for i in range(X.shape[1])]\n",
    "\n",
    "# Display the VIF DataFrame\n",
    "print(vif_data)"
   ]
  },
  {
   "cell_type": "code",
   "execution_count": null,
   "id": "c494c721",
   "metadata": {},
   "outputs": [],
   "source": []
  },
  {
   "cell_type": "code",
   "execution_count": 7,
   "id": "546d49ca",
   "metadata": {},
   "outputs": [],
   "source": [
    "X=df[['R&D Spend','Administration','Marketing Spend',]]\n",
    "Y=df[['Profit']]"
   ]
  },
  {
   "cell_type": "code",
   "execution_count": 8,
   "id": "03131638",
   "metadata": {},
   "outputs": [],
   "source": [
    "import matplotlib.pyplot as plt"
   ]
  },
  {
   "cell_type": "code",
   "execution_count": 20,
   "id": "651714ac",
   "metadata": {},
   "outputs": [
    {
     "data": {
      "text/plain": [
       "<Axes: xlabel='R&D Spend', ylabel='Administration'>"
      ]
     },
     "execution_count": 20,
     "metadata": {},
     "output_type": "execute_result"
    },
    {
     "data": {
      "text/plain": [
       "<Figure size 400x200 with 0 Axes>"
      ]
     },
     "metadata": {},
     "output_type": "display_data"
    },
    {
     "data": {
      "image/png": "[encoded data removed]",
      "text/plain": [
       "<Figure size 640x480 with 1 Axes>"
      ]
     },
     "metadata": {},
     "output_type": "display_data"
    }
   ],
   "source": [
    "plt.figure(figsize=(4, 2))\n",
    "df.plot(kind='scatter', x='R&D Spend', y='Administration')"
   ]
  },
  {
   "cell_type": "code",
   "execution_count": 11,
   "id": "8a4416d3",
   "metadata": {},
   "outputs": [
    {
     "data": {
      "text/plain": [
       "<Axes: xlabel='R&D Spend', ylabel='Marketing Spend'>"
      ]
     },
     "execution_count": 11,
     "metadata": {},
     "output_type": "execute_result"
    },
    {
     "data": {
      "text/plain": [
       "<Figure size 500x300 with 0 Axes>"
      ]
     },
     "metadata": {},
     "output_type": "display_data"
    },
    {
     "data": {
      "image/png": "[encoded data removed]",
      "text/plain": [
       "<Figure size 640x480 with 1 Axes>"
      ]
     },
     "metadata": {},
     "output_type": "display_data"
    }
   ],
   "source": [
    "plt.figure(figsize=(5, 3))\n",
    "df.plot(kind='scatter', x='R&D Spend', y='Marketing Spend')"
   ]
  },
  {
   "cell_type": "code",
   "execution_count": 12,
   "id": "270ecbc4",
   "metadata": {},
   "outputs": [
    {
     "data": {
      "text/plain": [
       "<Axes: xlabel='Administration', ylabel='Marketing Spend'>"
      ]
     },
     "execution_count": 12,
     "metadata": {},
     "output_type": "execute_result"
    },
    {
     "data": {
      "text/plain": [
       "<Figure size 500x300 with 0 Axes>"
      ]
     },
     "metadata": {},
     "output_type": "display_data"
    },
    {
     "data": {
      "image/png": "[encoded data removed]",
      "text/plain": [
       "<Figure size 640x480 with 1 Axes>"
      ]
     },
     "metadata": {},
     "output_type": "display_data"
    }
   ],
   "source": [
    "plt.figure(figsize=(5, 3))\n",
    "df.plot(kind='scatter', x='Administration', y='Marketing Spend')"
   ]
  },
  {
   "cell_type": "code",
   "execution_count": 13,
   "id": "d5313e1e",
   "metadata": {},
   "outputs": [
    {
     "data": {
      "image/png": "[encoded data removed]",
      "text/plain": [
       "<Figure size 500x300 with 1 Axes>"
      ]
     },
     "metadata": {},
     "output_type": "display_data"
    }
   ],
   "source": [
    "import seaborn as sns\n",
    "plt.figure(figsize=(5, 3))\n",
    "sns.boxplot(x='R&D Spend', data=df)\n",
    "plt.title('Boxplot of X for each Y value')\n",
    "plt.show()\n"
   ]
  },
  {
   "cell_type": "code",
   "execution_count": 14,
   "id": "0b5c62b6",
   "metadata": {},
   "outputs": [
    {
     "data": {
      "image/png": "[encoded data removed]",
      "text/plain": [
       "<Figure size 500x300 with 1 Axes>"
      ]
     },
     "metadata": {},
     "output_type": "display_data"
    }
   ],
   "source": [
    "import seaborn as sns\n",
    "plt.figure(figsize=(5, 3))\n",
    "sns.boxplot(x='Administration', data=df)\n",
    "plt.title('Boxplot of X for each Y value')\n",
    "plt.show()"
   ]
  },
  {
   "cell_type": "code",
   "execution_count": 15,
   "id": "7bfdec36",
   "metadata": {},
   "outputs": [
    {
     "data": {
      "image/png": "[encoded data removed]",
      "text/plain": [
       "<Figure size 500x300 with 1 Axes>"
      ]
     },
     "metadata": {},
     "output_type": "display_data"
    }
   ],
   "source": [
    "import seaborn as sns\n",
    "plt.figure(figsize=(5, 3))\n",
    "sns.boxplot(x='Marketing Spend', data=df)\n",
    "plt.title('Boxplot of X for each Y value')\n",
    "plt.show()"
   ]
  },
  {
   "cell_type": "code",
   "execution_count": 16,
   "id": "40580d4c",
   "metadata": {},
   "outputs": [
    {
     "data": {
      "image/png": "[encoded data removed]",
      "text/plain": [
       "<Figure size 400x200 with 1 Axes>"
      ]
     },
     "metadata": {},
     "output_type": "display_data"
    }
   ],
   "source": [
    "plt.figure(figsize=(4, 2))\n",
    "sns.histplot(x='Marketing Spend', data=df, bins=30, kde=True)\n",
    "plt.title('Histogram of X for each Y value')\n",
    "plt.show()"
   ]
  },
  {
   "cell_type": "code",
   "execution_count": 18,
   "id": "3dadbb2d",
   "metadata": {},
   "outputs": [
    {
     "data": {
      "image/png": "[encoded data removed]",
      "text/plain": [
       "<Figure size 400x200 with 1 Axes>"
      ]
     },
     "metadata": {},
     "output_type": "display_data"
    }
   ],
   "source": [
    "plt.figure(figsize=(4, 2))\n",
    "sns.histplot(x='Administration', data=df, bins=30, kde=True)\n",
    "plt.title('Histogram of X for each Y value')\n",
    "plt.show()"
   ]
  },
  {
   "cell_type": "code",
   "execution_count": 17,
   "id": "f34acb5f",
   "metadata": {},
   "outputs": [
    {
     "data": {
      "image/png": "[encoded data removed]",
      "text/plain": [
       "<Figure size 400x200 with 1 Axes>"
      ]
     },
     "metadata": {},
     "output_type": "display_data"
    }
   ],
   "source": [
    "plt.figure(figsize=(4, 2))\n",
    "sns.histplot(x='R&D Spend', data=df, bins=30, kde=True)\n",
    "plt.title('Histogram of X for each Y value')\n",
    "plt.show()"
   ]
  },
  {
   "cell_type": "code",
   "execution_count": 8,
   "id": "d7ca6480",
   "metadata": {},
   "outputs": [
    {
     "data": {
      "text/plain": [
       "array([[ 1.        ,  0.24195525,  0.72424813,  0.97290047],\n",
       "       [ 0.24195525,  1.        , -0.03215388,  0.20071657],\n",
       "       [ 0.72424813, -0.03215388,  1.        ,  0.74776572],\n",
       "       [ 0.97290047,  0.20071657,  0.74776572,  1.        ]])"
      ]
     },
     "execution_count": 8,
     "metadata": {},
     "output_type": "execute_result"
    }
   ],
   "source": [
    "df.corr().values"
   ]
  },
  {
   "cell_type": "code",
   "execution_count": 9,
   "id": "9194686c",
   "metadata": {},
   "outputs": [
    {
     "data": {
      "text/html": [
       "<div>\n",
       "<style scoped>\n",
       "    .dataframe tbody tr th:only-of-type {\n",
       "        vertical-align: middle;\n",
       "    }\n",
       "\n",
       "    .dataframe tbody tr th {\n",
       "        vertical-align: top;\n",
       "    }\n",
       "\n",
       "    .dataframe thead th {\n",
       "        text-align: right;\n",
       "    }\n",
       "</style>\n",
       "<table border=\"1\" class=\"dataframe\">\n",
       "  <thead>\n",
       "    <tr style=\"text-align: right;\">\n",
       "      <th></th>\n",
       "      <th>Profit</th>\n",
       "    </tr>\n",
       "  </thead>\n",
       "  <tbody>\n",
       "    <tr>\n",
       "      <th>Administration</th>\n",
       "      <td>0.200717</td>\n",
       "    </tr>\n",
       "    <tr>\n",
       "      <th>Marketing Spend</th>\n",
       "      <td>0.747766</td>\n",
       "    </tr>\n",
       "    <tr>\n",
       "      <th>R&amp;D Spend</th>\n",
       "      <td>0.972900</td>\n",
       "    </tr>\n",
       "    <tr>\n",
       "      <th>Profit</th>\n",
       "      <td>1.000000</td>\n",
       "    </tr>\n",
       "  </tbody>\n",
       "</table>\n",
       "</div>"
      ],
      "text/plain": [
       "                   Profit\n",
       "Administration   0.200717\n",
       "Marketing Spend  0.747766\n",
       "R&D Spend        0.972900\n",
       "Profit           1.000000"
      ]
     },
     "execution_count": 9,
     "metadata": {},
     "output_type": "execute_result"
    }
   ],
   "source": [
    "df.corr()['Profit'].sort_values().to_frame()"
   ]
  },
  {
   "cell_type": "code",
   "execution_count": 10,
   "id": "ddf584ec",
   "metadata": {},
   "outputs": [],
   "source": [
    "X1 = df[['R&D Spend']]\n",
    "X2 = df[['R&D Spend','Marketing Spend']]\n",
    "X3 = df[['R&D Spend','Marketing Spend','Administration']]"
   ]
  },
  {
   "cell_type": "code",
   "execution_count": 11,
   "id": "a1817a19",
   "metadata": {},
   "outputs": [],
   "source": [
    "# step4: Data transformation for X\n",
    "from sklearn.preprocessing import StandardScaler\n",
    "SS = StandardScaler()\n",
    "SS_X = SS.fit_transform(X)"
   ]
  },
  {
   "cell_type": "code",
   "execution_count": 12,
   "id": "2a64d3b1",
   "metadata": {},
   "outputs": [
    {
     "data": {
      "text/plain": [
       "array([[192521.25289008],\n",
       "       [189156.76823227],\n",
       "       [182147.2790962 ],\n",
       "       [173696.70002553],\n",
       "       [172139.51418327],\n",
       "       [163580.7805712 ],\n",
       "       [158114.09666865],\n",
       "       [160021.36304781],\n",
       "       [151741.69969865],\n",
       "       [154884.68410995],\n",
       "       [135509.01636714],\n",
       "       [135573.71296074],\n",
       "       [129138.05418243],\n",
       "       [127487.99166275],\n",
       "       [149548.64633453],\n",
       "       [146235.1599852 ],\n",
       "       [116915.40540144],\n",
       "       [130192.44720781],\n",
       "       [129014.2268059 ],\n",
       "       [115635.21636716],\n",
       "       [116639.6692309 ],\n",
       "       [117319.45164029],\n",
       "       [114706.98171695],\n",
       "       [109996.61522126],\n",
       "       [113362.96611314],\n",
       "       [102237.72506481],\n",
       "       [110600.5753503 ],\n",
       "       [114408.07145684],\n",
       "       [101660.02600497],\n",
       "       [101794.98345176],\n",
       "       [ 99452.37293606],\n",
       "       [ 97687.85627575],\n",
       "       [ 99001.32898549],\n",
       "       [ 97915.00780465],\n",
       "       [ 89039.27374116],\n",
       "       [ 90511.59956753],\n",
       "       [ 75286.17458546],\n",
       "       [ 89619.5377079 ],\n",
       "       [ 69697.43064804],\n",
       "       [ 83729.01197692],\n",
       "       [ 74815.95399105],\n",
       "       [ 74802.55623866],\n",
       "       [ 70620.41182056],\n",
       "       [ 60167.03996335],\n",
       "       [ 64611.3549157 ],\n",
       "       [ 47650.64968691],\n",
       "       [ 56166.20685261],\n",
       "       [ 46490.58898335],\n",
       "       [ 49171.38815763],\n",
       "       [ 48215.1341113 ]])"
      ]
     },
     "execution_count": 12,
     "metadata": {},
     "output_type": "execute_result"
    }
   ],
   "source": [
    "# step6: Model fitting\n",
    "from sklearn.linear_model import LinearRegression\n",
    "LR = LinearRegression()\n",
    "LR.fit(SS_X,Y)\n",
    "Y_pred = LR.predict(SS_X)\n",
    "Y_pred"
   ]
  },
  {
   "cell_type": "code",
   "execution_count": 15,
   "id": "50c111ef",
   "metadata": {},
   "outputs": [
    {
     "name": "stdout",
     "output_type": "stream",
     "text": [
      "Mean squared Error 78417126.019\n",
      "Root Mean squared Error 8855.344\n",
      "R square 0.951\n",
      "residual analysis           Profit\n",
      "0    -259.422890\n",
      "1    2635.291768\n",
      "2    8903.110904\n",
      "3    9205.289974\n",
      "4   -5951.574183\n",
      "5   -6589.660571\n",
      "6   -1991.586669\n",
      "7   -4268.763048\n",
      "8     470.070301\n",
      "9   -5124.724110\n",
      "10  10612.933633\n",
      "11   8685.687039\n",
      "12  12447.465818\n",
      "13   6819.358337\n",
      "14 -16945.996335\n",
      "15 -16318.119985\n",
      "16  10077.524599\n",
      "17  -4822.077208\n",
      "18  -4747.326806\n",
      "19   7141.643633\n",
      "20   1834.360769\n",
      "21  -6006.431640\n",
      "22  -4354.731717\n",
      "23  -1262.625221\n",
      "24  -4810.926113\n",
      "25   5166.614935\n",
      "26  -4867.035350\n",
      "27  -9399.761457\n",
      "28   1622.353995\n",
      "29   -790.343452\n",
      "30    485.217064\n",
      "31   -204.296276\n",
      "32  -1573.488985\n",
      "33  -1136.087805\n",
      "34   7673.526259\n",
      "35   5967.910432\n",
      "36  15422.015415\n",
      "37    329.602292\n",
      "38  11531.629352\n",
      "39  -2723.251977\n",
      "40   3423.956009\n",
      "41   2996.273761\n",
      "42    878.078179\n",
      "43   9591.940037\n",
      "44    588.975084\n",
      "45  17275.430313\n",
      "46  -6675.456853\n",
      "47  -3930.858983\n",
      "48 -13497.978158\n",
      "49 -33533.734111\n"
     ]
    }
   ],
   "source": [
    "# step8: Metrics\n",
    "from sklearn.metrics import mean_squared_error,r2_score\n",
    "mse = mean_squared_error(Y,Y_pred)\n",
    "print(\"Mean squared Error\", mse.round(3))\n",
    "print(\"Root Mean squared Error\", np.sqrt(mse).round(3))\n",
    "print(\"R square\", r2_score(Y,Y_pred).round(3))\n",
    "print(\"residual analysis\",(Y-Y_pred))"
   ]
  },
  {
   "cell_type": "code",
   "execution_count": 16,
   "id": "6c4926e3",
   "metadata": {},
   "outputs": [],
   "source": [
    "# step4: Data transformation for X1\n",
    "from sklearn.preprocessing import StandardScaler\n",
    "SS = StandardScaler()\n",
    "SS_X = SS.fit_transform(X1)"
   ]
  },
  {
   "cell_type": "code",
   "execution_count": 17,
   "id": "945ee44b",
   "metadata": {},
   "outputs": [
    {
     "data": {
      "text/plain": [
       "array([[190289.29389289],\n",
       "       [187938.71118575],\n",
       "       [180116.65707807],\n",
       "       [172369.00320589],\n",
       "       [170433.97345032],\n",
       "       [161694.19683741],\n",
       "       [164033.72501421],\n",
       "       [160345.46724972],\n",
       "       [152011.33380847],\n",
       "       [154396.82286103],\n",
       "       [136096.36397105],\n",
       "       [135036.08586475],\n",
       "       [129219.89081021],\n",
       "       [127621.20411029],\n",
       "       [151499.37407569],\n",
       "       [146869.43093301],\n",
       "       [115678.82583435],\n",
       "       [129897.69412683],\n",
       "       [127413.41482014],\n",
       "       [122860.50313037],\n",
       "       [114175.91374003],\n",
       "       [116000.34693472],\n",
       "       [112245.81324567],\n",
       "       [106725.35677792],\n",
       "       [114850.93206678],\n",
       "       [104275.40289851],\n",
       "       [113385.70276482],\n",
       "       [110633.79960036],\n",
       "       [105460.14271464],\n",
       "       [105079.09459155],\n",
       "       [101994.24845109],\n",
       "       [101261.18102569],\n",
       "       [103202.54108032],\n",
       "       [ 96440.90176556],\n",
       "       [ 88694.29012885],\n",
       "       [ 88342.27936946],\n",
       "       [ 73520.10196791],\n",
       "       [ 86681.47714396],\n",
       "       [ 66314.86331588],\n",
       "       [ 81973.10151051],\n",
       "       [ 73597.47513738],\n",
       "       [ 72861.58000754],\n",
       "       [ 69229.14164122],\n",
       "       [ 62279.31048036],\n",
       "       [ 67979.15105018],\n",
       "       [ 49887.38699921],\n",
       "       [ 50156.68526807],\n",
       "       [ 49032.89914125],\n",
       "       [ 49495.96777887],\n",
       "       [ 49032.89914125]])"
      ]
     },
     "execution_count": 17,
     "metadata": {},
     "output_type": "execute_result"
    }
   ],
   "source": [
    "# step6: Model fitting\n",
    "from sklearn.linear_model import LinearRegression\n",
    "LR = LinearRegression()\n",
    "LR.fit(SS_X,Y)\n",
    "Y_pred = LR.predict(SS_X)\n",
    "Y_pred"
   ]
  },
  {
   "cell_type": "code",
   "execution_count": 18,
   "id": "09420459",
   "metadata": {},
   "outputs": [
    {
     "name": "stdout",
     "output_type": "stream",
     "text": [
      "Mean squared Error 85120931.327\n",
      "Root Mean squared Error 9226.101\n",
      "R square 0.947\n",
      "residual analysis           Profit\n",
      "0    1972.536107\n",
      "1    3853.348814\n",
      "2   10933.732922\n",
      "3   10532.986794\n",
      "4   -4246.033450\n",
      "5   -4703.076837\n",
      "6   -7911.215014\n",
      "7   -4592.867250\n",
      "8     200.436192\n",
      "9   -4636.862861\n",
      "10  10025.586029\n",
      "11   9223.314135\n",
      "12  12365.629190\n",
      "13   6686.145890\n",
      "14 -18896.724076\n",
      "15 -16952.390933\n",
      "16  11314.104166\n",
      "17  -4527.324127\n",
      "18  -3146.514820\n",
      "19    -83.643130\n",
      "20   4298.116260\n",
      "21  -4687.326935\n",
      "22  -1893.563246\n",
      "23   2008.633222\n",
      "24  -6298.892067\n",
      "25   3128.937101\n",
      "26  -7652.162765\n",
      "27  -5625.489600\n",
      "28  -2177.762715\n",
      "29  -4074.454592\n",
      "30  -2056.658451\n",
      "31  -3777.621026\n",
      "32  -5774.701080\n",
      "33    338.018234\n",
      "34   8018.509871\n",
      "35   8137.230631\n",
      "36  17188.088032\n",
      "37   3267.662856\n",
      "38  14914.196684\n",
      "39   -967.341511\n",
      "40   4642.434863\n",
      "41   4937.249992\n",
      "42   2269.348359\n",
      "43   7479.669520\n",
      "44  -2778.821050\n",
      "45  15038.693001\n",
      "46   -665.935268\n",
      "47  -6473.169141\n",
      "48 -13822.557779\n",
      "49 -34351.499141\n"
     ]
    }
   ],
   "source": [
    "# step8: Metrics\n",
    "from sklearn.metrics import mean_squared_error,r2_score\n",
    "mse = mean_squared_error(Y,Y_pred)\n",
    "print(\"Mean squared Error\", mse.round(3))\n",
    "print(\"Root Mean squared Error\", np.sqrt(mse).round(3))\n",
    "print(\"R square\", r2_score(Y,Y_pred).round(3))\n",
    "print(\"residual analysis\",(Y-Y_pred))"
   ]
  },
  {
   "cell_type": "code",
   "execution_count": 19,
   "id": "352d9a81",
   "metadata": {},
   "outputs": [],
   "source": [
    "# step4: Data transformation for X2\n",
    "from sklearn.preprocessing import StandardScaler\n",
    "SS = StandardScaler()\n",
    "SS_X = SS.fit_transform(X2)"
   ]
  },
  {
   "cell_type": "code",
   "execution_count": 20,
   "id": "b8687da6",
   "metadata": {},
   "outputs": [
    {
     "data": {
      "text/plain": [
       "array([[192800.45862502],\n",
       "       [189774.65948019],\n",
       "       [181405.37809703],\n",
       "       [173441.30884249],\n",
       "       [171127.62321762],\n",
       "       [162879.31081217],\n",
       "       [158028.13045422],\n",
       "       [160455.73887656],\n",
       "       [152317.8036728 ],\n",
       "       [154343.8139353 ],\n",
       "       [135011.91472396],\n",
       "       [134638.87007529],\n",
       "       [129218.39657898],\n",
       "       [127812.20546461],\n",
       "       [150192.49179713],\n",
       "       [146032.71543309],\n",
       "       [117025.89184753],\n",
       "       [130829.44473222],\n",
       "       [128882.19882756],\n",
       "       [115816.41833283],\n",
       "       [116650.89209156],\n",
       "       [118384.17070857],\n",
       "       [114990.38463925],\n",
       "       [109886.18521692],\n",
       "       [112552.18715137],\n",
       "       [102612.90924225],\n",
       "       [110990.79288437],\n",
       "       [114978.60515008],\n",
       "       [103125.01275975],\n",
       "       [102440.42409014],\n",
       "       [ 99085.21956154],\n",
       "       [ 98314.54885378],\n",
       "       [ 98864.66225433],\n",
       "       [ 97600.73044466],\n",
       "       [ 90262.64121898],\n",
       "       [ 89776.4942853 ],\n",
       "       [ 75824.23391247],\n",
       "       [ 87974.01451829],\n",
       "       [ 68631.3183233 ],\n",
       "       [ 82924.81527479],\n",
       "       [ 75049.0560307 ],\n",
       "       [ 74113.88870454],\n",
       "       [ 70234.25057356],\n",
       "       [ 60390.23285206],\n",
       "       [ 65489.72930769],\n",
       "       [ 47829.57397995],\n",
       "       [ 56909.80085883],\n",
       "       [ 46975.86422072],\n",
       "       [ 47407.6526018 ],\n",
       "       [ 48326.89446186]])"
      ]
     },
     "execution_count": 20,
     "metadata": {},
     "output_type": "execute_result"
    }
   ],
   "source": [
    "# step6: Model fitting\n",
    "from sklearn.linear_model import LinearRegression\n",
    "LR = LinearRegression()\n",
    "LR.fit(SS_X,Y)\n",
    "Y_pred = LR.predict(SS_X)\n",
    "Y_pred"
   ]
  },
  {
   "cell_type": "code",
   "execution_count": 21,
   "id": "883fb820",
   "metadata": {},
   "outputs": [
    {
     "name": "stdout",
     "output_type": "stream",
     "text": [
      "Mean squared Error 78887897.006\n",
      "Root Mean squared Error 8881.886\n",
      "R square 0.95\n",
      "residual analysis           Profit\n",
      "0    -538.628625\n",
      "1    2017.400520\n",
      "2    9645.011903\n",
      "3    9460.681158\n",
      "4   -4939.683218\n",
      "5   -5888.190812\n",
      "6   -1905.620454\n",
      "7   -4703.138877\n",
      "8    -106.033673\n",
      "9   -4583.853935\n",
      "10  11110.035276\n",
      "11   9620.529925\n",
      "12  12367.123421\n",
      "13   6495.144535\n",
      "14 -17589.841797\n",
      "15 -16115.675433\n",
      "16   9967.038152\n",
      "17  -5459.074732\n",
      "18  -4615.298828\n",
      "19   6960.441667\n",
      "20   1823.137908\n",
      "21  -7071.150709\n",
      "22  -4638.134639\n",
      "23  -1152.195217\n",
      "24  -4000.147151\n",
      "25   4791.430758\n",
      "26  -5257.252884\n",
      "27  -9970.295150\n",
      "28    157.367240\n",
      "29  -1435.784090\n",
      "30    852.370438\n",
      "31   -830.988854\n",
      "32  -1436.822254\n",
      "33   -821.810445\n",
      "34   6450.158781\n",
      "35   6703.015715\n",
      "36  14883.956088\n",
      "37   1975.125482\n",
      "38  12597.741677\n",
      "39  -1919.055275\n",
      "40   3190.853969\n",
      "41   3684.941295\n",
      "42   1264.239426\n",
      "43   9368.747148\n",
      "44   -289.399308\n",
      "45  17096.506020\n",
      "46  -7419.050859\n",
      "47  -4416.134221\n",
      "48 -11734.242602\n",
      "49 -33645.494462\n"
     ]
    }
   ],
   "source": [
    "# step8: Metrics\n",
    "from sklearn.metrics import mean_squared_error,r2_score\n",
    "mse = mean_squared_error(Y,Y_pred)\n",
    "print(\"Mean squared Error\", mse.round(3))\n",
    "print(\"Root Mean squared Error\", np.sqrt(mse).round(3))\n",
    "print(\"R square\", r2_score(Y,Y_pred).round(3))\n",
    "print(\"residual analysis\",(Y-Y_pred))"
   ]
  },
  {
   "cell_type": "code",
   "execution_count": 22,
   "id": "b1ca2d28",
   "metadata": {},
   "outputs": [],
   "source": [
    "# step4: Data transformation for X3\n",
    "from sklearn.preprocessing import StandardScaler\n",
    "SS = StandardScaler()\n",
    "SS_X = SS.fit_transform(X3)"
   ]
  },
  {
   "cell_type": "code",
   "execution_count": 23,
   "id": "01932d0c",
   "metadata": {},
   "outputs": [
    {
     "data": {
      "text/plain": [
       "array([[192521.25289008],\n",
       "       [189156.76823227],\n",
       "       [182147.2790962 ],\n",
       "       [173696.70002553],\n",
       "       [172139.51418327],\n",
       "       [163580.7805712 ],\n",
       "       [158114.09666865],\n",
       "       [160021.36304781],\n",
       "       [151741.69969865],\n",
       "       [154884.68410995],\n",
       "       [135509.01636714],\n",
       "       [135573.71296074],\n",
       "       [129138.05418243],\n",
       "       [127487.99166275],\n",
       "       [149548.64633453],\n",
       "       [146235.1599852 ],\n",
       "       [116915.40540144],\n",
       "       [130192.44720781],\n",
       "       [129014.2268059 ],\n",
       "       [115635.21636716],\n",
       "       [116639.6692309 ],\n",
       "       [117319.45164029],\n",
       "       [114706.98171695],\n",
       "       [109996.61522126],\n",
       "       [113362.96611314],\n",
       "       [102237.72506481],\n",
       "       [110600.5753503 ],\n",
       "       [114408.07145684],\n",
       "       [101660.02600497],\n",
       "       [101794.98345176],\n",
       "       [ 99452.37293606],\n",
       "       [ 97687.85627575],\n",
       "       [ 99001.32898549],\n",
       "       [ 97915.00780465],\n",
       "       [ 89039.27374116],\n",
       "       [ 90511.59956753],\n",
       "       [ 75286.17458546],\n",
       "       [ 89619.5377079 ],\n",
       "       [ 69697.43064804],\n",
       "       [ 83729.01197692],\n",
       "       [ 74815.95399105],\n",
       "       [ 74802.55623866],\n",
       "       [ 70620.41182056],\n",
       "       [ 60167.03996335],\n",
       "       [ 64611.3549157 ],\n",
       "       [ 47650.64968691],\n",
       "       [ 56166.20685261],\n",
       "       [ 46490.58898335],\n",
       "       [ 49171.38815763],\n",
       "       [ 48215.1341113 ]])"
      ]
     },
     "execution_count": 23,
     "metadata": {},
     "output_type": "execute_result"
    }
   ],
   "source": [
    "# step6: Model fitting\n",
    "from sklearn.linear_model import LinearRegression\n",
    "LR = LinearRegression()\n",
    "LR.fit(SS_X,Y)\n",
    "Y_pred = LR.predict(SS_X)\n",
    "Y_pred"
   ]
  },
  {
   "cell_type": "code",
   "execution_count": 24,
   "id": "f1487710",
   "metadata": {},
   "outputs": [
    {
     "name": "stdout",
     "output_type": "stream",
     "text": [
      "Mean squared Error 78417126.019\n",
      "Root Mean squared Error 8855.344\n",
      "R square 0.951\n",
      "residual analysis           Profit\n",
      "0    -259.422890\n",
      "1    2635.291768\n",
      "2    8903.110904\n",
      "3    9205.289974\n",
      "4   -5951.574183\n",
      "5   -6589.660571\n",
      "6   -1991.586669\n",
      "7   -4268.763048\n",
      "8     470.070301\n",
      "9   -5124.724110\n",
      "10  10612.933633\n",
      "11   8685.687039\n",
      "12  12447.465818\n",
      "13   6819.358337\n",
      "14 -16945.996335\n",
      "15 -16318.119985\n",
      "16  10077.524599\n",
      "17  -4822.077208\n",
      "18  -4747.326806\n",
      "19   7141.643633\n",
      "20   1834.360769\n",
      "21  -6006.431640\n",
      "22  -4354.731717\n",
      "23  -1262.625221\n",
      "24  -4810.926113\n",
      "25   5166.614935\n",
      "26  -4867.035350\n",
      "27  -9399.761457\n",
      "28   1622.353995\n",
      "29   -790.343452\n",
      "30    485.217064\n",
      "31   -204.296276\n",
      "32  -1573.488985\n",
      "33  -1136.087805\n",
      "34   7673.526259\n",
      "35   5967.910432\n",
      "36  15422.015415\n",
      "37    329.602292\n",
      "38  11531.629352\n",
      "39  -2723.251977\n",
      "40   3423.956009\n",
      "41   2996.273761\n",
      "42    878.078179\n",
      "43   9591.940037\n",
      "44    588.975084\n",
      "45  17275.430313\n",
      "46  -6675.456853\n",
      "47  -3930.858983\n",
      "48 -13497.978158\n",
      "49 -33533.734111\n"
     ]
    }
   ],
   "source": [
    "# step8: Metrics\n",
    "from sklearn.metrics import mean_squared_error,r2_score\n",
    "mse = mean_squared_error(Y,Y_pred)\n",
    "print(\"Mean squared Error\", mse.round(3))\n",
    "print(\"Root Mean squared Error\", np.sqrt(mse).round(3))\n",
    "print(\"R square\", r2_score(Y,Y_pred).round(3))\n",
    "print(\"residual analysis\",(Y-Y_pred))"
   ]
  },
  {
   "cell_type": "code",
   "execution_count": null,
   "id": "497f3207",
   "metadata": {},
   "outputs": [],
   "source": [
    "#did eda and made all possible  model  with rmse values and r2 values\n"
   ]
  }
 ],
 "metadata": {
  "kernelspec": {
   "display_name": "Python 3 (ipykernel)",
   "language": "python",
   "name": "python3"
  },
  "language_info": {
   "codemirror_mode": {
    "name": "ipython",
    "version": 3
   },
   "file_extension": ".py",
   "mimetype": "text/x-python",
   "name": "python",
   "nbconvert_exporter": "python",
   "pygments_lexer": "ipython3",
   "version": "3.11.5"
  }
 },
 "nbformat": 4,
 "nbformat_minor": 5
}
